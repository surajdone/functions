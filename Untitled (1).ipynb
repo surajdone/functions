{
 "cells": [
  {
   "cell_type": "code",
   "execution_count": 1,
   "id": "f23f1653-6114-434e-a2fd-16b9844489fa",
   "metadata": {},
   "outputs": [],
   "source": [
    "# Q1. Which keyword is used to create a function? Create a function to return a list of odd numbers in the\n",
    "# range of 1 to 25."
   ]
  },
  {
   "cell_type": "code",
   "execution_count": 2,
   "id": "e2e34439-2e55-4291-a01e-490968812964",
   "metadata": {},
   "outputs": [
    {
     "data": {
      "text/plain": [
       "'to create a function we simply use the (def) keyword '"
      ]
     },
     "execution_count": 2,
     "metadata": {},
     "output_type": "execute_result"
    }
   ],
   "source": [
    "\"\"\"to create a function we simply use the (def) keyword \"\"\""
   ]
  },
  {
   "cell_type": "code",
   "execution_count": 36,
   "id": "fee5b962-63f3-495f-8297-cd3db69bcc63",
   "metadata": {},
   "outputs": [],
   "source": [
    "def func():\n",
    "    for i in range(1,25):\n",
    "        if i % 2 :\n",
    "            print(i)"
   ]
  },
  {
   "cell_type": "code",
   "execution_count": 37,
   "id": "a9fb8c67-239e-4b5f-96e2-e18fc2f880ee",
   "metadata": {},
   "outputs": [
    {
     "name": "stdout",
     "output_type": "stream",
     "text": [
      "1\n",
      "3\n",
      "5\n",
      "7\n",
      "9\n",
      "11\n",
      "13\n",
      "15\n",
      "17\n",
      "19\n",
      "21\n",
      "23\n"
     ]
    }
   ],
   "source": [
    "func()"
   ]
  },
  {
   "cell_type": "code",
   "execution_count": 38,
   "id": "3ecc6d24-f1a0-4049-8ce4-8ec386b3266f",
   "metadata": {},
   "outputs": [],
   "source": [
    "# Q2. Why *args and **kwargs is used in some functions? Create a function each for *args and **kwargs\n",
    "# to demonstrate their use."
   ]
  },
  {
   "cell_type": "code",
   "execution_count": 39,
   "id": "8678ee6b-f35b-46e5-a68a-0c3898d11656",
   "metadata": {},
   "outputs": [
    {
     "data": {
      "text/plain": [
       "'*args: This syntax allows you to pass a variable number of positional arguments to a function. The args parameter inside\\nthe function will hold these arguments as a tuple.\\n**kwargs: This syntax allows you to pass a variable number of keyword arguments (key-value pairs) to a function. \\nThe kwargs parameter inside the function will hold these arguments as a dictionary.'"
      ]
     },
     "execution_count": 39,
     "metadata": {},
     "output_type": "execute_result"
    }
   ],
   "source": [
    "\"\"\"*args: This syntax allows you to pass a variable number of positional arguments to a function. The args parameter inside\n",
    "the function will hold these arguments as a tuple.\n",
    "**kwargs: This syntax allows you to pass a variable number of keyword arguments (key-value pairs) to a function. \n",
    "The kwargs parameter inside the function will hold these arguments as a dictionary.\"\"\""
   ]
  },
  {
   "cell_type": "code",
   "execution_count": 40,
   "id": "d7120564-1fd9-4581-9f87-3906c6973d41",
   "metadata": {},
   "outputs": [
    {
     "name": "stdout",
     "output_type": "stream",
     "text": [
      "His last name is Done\n"
     ]
    }
   ],
   "source": [
    "def my_function(**student):\n",
    "    \n",
    "    print(\"His last name is \" + student[\"lname\"])\n",
    "\n",
    "my_function(fname = \"suraj\", lname = \"Done\")\n"
   ]
  },
  {
   "cell_type": "code",
   "execution_count": 2,
   "id": "590e4984-19ea-4a89-a2d1-bdc8e34d9b37",
   "metadata": {},
   "outputs": [
    {
     "name": "stdout",
     "output_type": "stream",
     "text": [
      "Hello\n",
      "Welcome\n",
      "to\n",
      "helloworld\n"
     ]
    }
   ],
   "source": [
    "def multipleFunction(*argv):  \n",
    "    for i in argv:  \n",
    "        print(i)  \n",
    "  \n",
    "  \n",
    "multipleFunction('Hello', 'Welcome', 'to', 'helloworld')  "
   ]
  },
  {
   "cell_type": "code",
   "execution_count": null,
   "id": "658337bd-65c1-4a8d-b6e1-16d28acba9cd",
   "metadata": {},
   "outputs": [],
   "source": []
  },
  {
   "cell_type": "code",
   "execution_count": null,
   "id": "5c4b6afa-626d-4dc6-a17c-eb6c557d8953",
   "metadata": {},
   "outputs": [],
   "source": []
  },
  {
   "cell_type": "code",
   "execution_count": 42,
   "id": "5b70edcf-2290-47c3-93a9-e814e314adbb",
   "metadata": {},
   "outputs": [],
   "source": [
    "# Q3. What is an iterator in python? Name the method used to initialise the iterator object and the method\n",
    "#used for iteration. Use these methods to print the first five elements of the given list [2, 4, 6, 8, 10, 12, 14,\n",
    "#16, 18, 20]."
   ]
  },
  {
   "cell_type": "code",
   "execution_count": 43,
   "id": "a28d4070-4d16-44d7-863f-1421a0121638",
   "metadata": {},
   "outputs": [
    {
     "data": {
      "text/plain": [
       "'in python iteration is the run a list in aa loop or return a value one after another simply we can ierate in two methods\\n    __iter__\\n    __next__\\n    simply we can use for loop to print first elements in the list'"
      ]
     },
     "execution_count": 43,
     "metadata": {},
     "output_type": "execute_result"
    }
   ],
   "source": [
    "\"\"\"in python iteration is the run a list in aa loop or return a value one after another simply we can ierate in two methods\n",
    "    __iter__\n",
    "    __next__\n",
    "    simply we can use for loop to print first elements in the list\"\"\""
   ]
  },
  {
   "cell_type": "code",
   "execution_count": 46,
   "id": "400dd79b-6b10-4b65-9241-43d2819ab85f",
   "metadata": {},
   "outputs": [],
   "source": [
    "list1= [2, 4, 6, 8, 10, 12, 14, 16, 18, 20]"
   ]
  },
  {
   "cell_type": "code",
   "execution_count": 47,
   "id": "9a2b10e3-6a03-4d29-a98b-9992ab38f224",
   "metadata": {},
   "outputs": [],
   "source": [
    "my_iterator=iter(list1)"
   ]
  },
  {
   "cell_type": "code",
   "execution_count": 50,
   "id": "21c22a50-1c5c-41c7-b8b4-e7081d496eab",
   "metadata": {},
   "outputs": [
    {
     "data": {
      "text/plain": [
       "<list_iterator at 0x7f96b431ae90>"
      ]
     },
     "execution_count": 50,
     "metadata": {},
     "output_type": "execute_result"
    }
   ],
   "source": [
    "my_iterator"
   ]
  },
  {
   "cell_type": "code",
   "execution_count": 57,
   "id": "0fa553b3-0410-4013-aa5b-a1c82776e54e",
   "metadata": {},
   "outputs": [
    {
     "name": "stdout",
     "output_type": "stream",
     "text": [
      "2\n",
      "4\n",
      "6\n",
      "8\n",
      "10\n"
     ]
    }
   ],
   "source": [
    "for i in range (5):\n",
    "    element=next(my_iterator)\n",
    "    print(element)"
   ]
  },
  {
   "cell_type": "code",
   "execution_count": null,
   "id": "39d79554-4b6d-450f-b94d-ecfb361fc24c",
   "metadata": {},
   "outputs": [],
   "source": []
  },
  {
   "cell_type": "code",
   "execution_count": null,
   "id": "87bf099d-ec17-47ca-b716-23cc352d4fd9",
   "metadata": {},
   "outputs": [],
   "source": []
  },
  {
   "cell_type": "code",
   "execution_count": 58,
   "id": "ca989afa-538b-4ca7-8bf6-1694985fc33d",
   "metadata": {},
   "outputs": [],
   "source": [
    "# Q4. What is a generator function in python? Why yield keyword is used? Give an example of a generator function."
   ]
  },
  {
   "cell_type": "code",
   "execution_count": 60,
   "id": "00dca6cc-6fc7-4d2d-9703-23835ae746e3",
   "metadata": {},
   "outputs": [
    {
     "data": {
      "text/plain": [
       "'yield function work like pause and resume it does not store in memory it make possible to genrate value on demand \\n'"
      ]
     },
     "execution_count": 60,
     "metadata": {},
     "output_type": "execute_result"
    }
   ],
   "source": [
    "\"\"\"a gemrator function in python special types of function which return an itrator of list\n",
    "if we provide a list it iterate it and save in memory location and after a print it give readult\"\"\"\n",
    "\"\"\"yield function work like pause and resume it does not store in memory it make possible to genrate value on demand \n",
    "\"\"\""
   ]
  },
  {
   "cell_type": "code",
   "execution_count": 62,
   "id": "cd0619e1-28be-4116-8c02-513daf4203b6",
   "metadata": {},
   "outputs": [
    {
     "name": "stdout",
     "output_type": "stream",
     "text": [
      "0\n",
      "2\n",
      "4\n",
      "6\n",
      "8\n"
     ]
    }
   ],
   "source": [
    "def even_numver(n):\n",
    "    for i in range(n):\n",
    "        if i %2 ==0:\n",
    "            yield i\n",
    "\n",
    "get =even_numver(10)\n",
    "\n",
    "for num in get:\n",
    "    print(num)"
   ]
  },
  {
   "cell_type": "code",
   "execution_count": null,
   "id": "e6815393-0822-42df-801b-6f7a754b0191",
   "metadata": {},
   "outputs": [],
   "source": []
  },
  {
   "cell_type": "code",
   "execution_count": 3,
   "id": "be98424d-1748-4a37-ba03-9b253163c875",
   "metadata": {},
   "outputs": [],
   "source": [
    "#Q5. Create a generator function for prime numbers less than 1000. Use the next() method to print the\n",
    "#first 20 prime numbers."
   ]
  },
  {
   "cell_type": "code",
   "execution_count": 31,
   "id": "3308ea2e-179d-40a3-9d0d-af39e9f9c391",
   "metadata": {},
   "outputs": [
    {
     "name": "stdout",
     "output_type": "stream",
     "text": [
      "2\n",
      "3\n",
      "5\n",
      "7\n",
      "11\n",
      "13\n",
      "17\n",
      "19\n",
      "23\n",
      "29\n",
      "31\n",
      "37\n",
      "41\n",
      "43\n",
      "47\n",
      "53\n",
      "59\n",
      "61\n",
      "67\n",
      "71\n"
     ]
    }
   ],
   "source": [
    "def generate_primes(limit):\n",
    "    primes = []\n",
    "    num = 2\n",
    "\n",
    "    while num < limit:\n",
    "        is_prime = True\n",
    "\n",
    "        for prime in primes:\n",
    "            if prime * prime > num:\n",
    "                break\n",
    "            if num % prime == 0:\n",
    "                is_prime = False\n",
    "                break\n",
    "\n",
    "        if is_prime:\n",
    "            primes.append(num)\n",
    "            yield num\n",
    "\n",
    "        num += 1\n",
    "\n",
    "prime_generator = generate_primes(1000)\n",
    "\n",
    "for _ in range(20):\n",
    "    print(next(prime_generator))\n"
   ]
  },
  {
   "cell_type": "code",
   "execution_count": null,
   "id": "925ecbc4-bf5a-45f1-8902-9ae36342d007",
   "metadata": {},
   "outputs": [],
   "source": [
    "#Q6. Write a python program to print the first 10 Fibonacci numbers using a while loop."
   ]
  },
  {
   "cell_type": "code",
   "execution_count": 52,
   "id": "9f8730ae-af13-473c-9c88-49d2b66947bb",
   "metadata": {},
   "outputs": [],
   "source": [
    "def test(n) :\n",
    "    a,b=0,1\n",
    "    for i in range(n):\n",
    "        yield a\n",
    "        a,b=b,a+b\n",
    "        \n",
    "        "
   ]
  },
  {
   "cell_type": "code",
   "execution_count": 53,
   "id": "5a7b78ed-bed0-4331-803b-139b393326da",
   "metadata": {},
   "outputs": [
    {
     "name": "stdout",
     "output_type": "stream",
     "text": [
      "0\n",
      "1\n",
      "1\n",
      "2\n",
      "3\n",
      "5\n",
      "8\n",
      "13\n",
      "21\n",
      "34\n"
     ]
    }
   ],
   "source": [
    "for i in test(10):\n",
    "    print(i)"
   ]
  },
  {
   "cell_type": "code",
   "execution_count": 54,
   "id": "51008bbe-dcde-4080-a359-b60f5a4ce21e",
   "metadata": {},
   "outputs": [],
   "source": [
    "# Q7. Write a List Comprehension to iterate through the given string: ‘pwskills’. Expected output: ['p', 'w', 's', 'k', 'i', 'l', 'l', 's']"
   ]
  },
  {
   "cell_type": "code",
   "execution_count": 58,
   "id": "67257fd7-1f4a-441e-a68a-a621a4625161",
   "metadata": {},
   "outputs": [],
   "source": [
    "list1 = \"pwskills\""
   ]
  },
  {
   "cell_type": "code",
   "execution_count": 62,
   "id": "3732a535-70f9-4dcb-9cce-92c51a2c14cb",
   "metadata": {},
   "outputs": [
    {
     "data": {
      "text/plain": [
       "['p', 'w', 's', 'k', 'i', 'l', 'l', 's']"
      ]
     },
     "execution_count": 62,
     "metadata": {},
     "output_type": "execute_result"
    }
   ],
   "source": [
    "[i for i in list1]"
   ]
  },
  {
   "cell_type": "code",
   "execution_count": null,
   "id": "e6eaa3ed-377c-4390-8881-9933ab8cd65d",
   "metadata": {},
   "outputs": [],
   "source": []
  },
  {
   "cell_type": "code",
   "execution_count": 63,
   "id": "baff9b27-4524-44da-adde-cd67134872c7",
   "metadata": {},
   "outputs": [],
   "source": [
    "#Q8. Write a python program to check whether a given number is Palindrome or not using a while loop."
   ]
  },
  {
   "cell_type": "code",
   "execution_count": 64,
   "id": "ee3aadb6-13ca-4f7a-8b0c-2e23cec98a1b",
   "metadata": {},
   "outputs": [
    {
     "name": "stdin",
     "output_type": "stream",
     "text": [
      "Please give a number :  4\n"
     ]
    },
    {
     "name": "stdout",
     "output_type": "stream",
     "text": [
      "Given number is a palindrome\n"
     ]
    }
   ],
   "source": [
    "\n",
    "#a python program to check whether a given number is Palindrome or not using a while loop.\n",
    "n = int(input(\"Please give a number : \"))\n",
    "def reverse(num):\n",
    "    if num<10:\n",
    "      return num \n",
    "    else:\n",
    "      return int(str(num%10) + str(reverse(num//10)))\n",
    "def isPalindrome(num):\n",
    "    if num == reverse(num):\n",
    "        return 1\n",
    "    return 0\n",
    "if isPalindrome(n) == 1:\n",
    "    print(\"Given number is a palindrome\")\n",
    "else:\n",
    "    print(\"Given number is a not palindrome\") \n"
   ]
  },
  {
   "cell_type": "code",
   "execution_count": null,
   "id": "056dafc8-8986-466f-8248-70f57c60dcd4",
   "metadata": {},
   "outputs": [],
   "source": []
  },
  {
   "cell_type": "code",
   "execution_count": 65,
   "id": "b8939bac-e31c-4e0f-81ed-95fca5aa0318",
   "metadata": {},
   "outputs": [],
   "source": [
    "# Q9. Write a code to print odd numbers from 1 to 100 using list comprehension."
   ]
  },
  {
   "cell_type": "code",
   "execution_count": 68,
   "id": "166d1a87-f021-499c-8b8e-8cf2b01b38d2",
   "metadata": {},
   "outputs": [
    {
     "data": {
      "text/plain": [
       "[1,\n",
       " 3,\n",
       " 5,\n",
       " 7,\n",
       " 9,\n",
       " 11,\n",
       " 13,\n",
       " 15,\n",
       " 17,\n",
       " 19,\n",
       " 21,\n",
       " 23,\n",
       " 25,\n",
       " 27,\n",
       " 29,\n",
       " 31,\n",
       " 33,\n",
       " 35,\n",
       " 37,\n",
       " 39,\n",
       " 41,\n",
       " 43,\n",
       " 45,\n",
       " 47,\n",
       " 49,\n",
       " 51,\n",
       " 53,\n",
       " 55,\n",
       " 57,\n",
       " 59,\n",
       " 61,\n",
       " 63,\n",
       " 65,\n",
       " 67,\n",
       " 69,\n",
       " 71,\n",
       " 73,\n",
       " 75,\n",
       " 77,\n",
       " 79,\n",
       " 81,\n",
       " 83,\n",
       " 85,\n",
       " 87,\n",
       " 89,\n",
       " 91,\n",
       " 93,\n",
       " 95,\n",
       " 97,\n",
       " 99]"
      ]
     },
     "execution_count": 68,
     "metadata": {},
     "output_type": "execute_result"
    }
   ],
   "source": [
    "[odd for odd in range(100) if odd % 2==1]"
   ]
  },
  {
   "cell_type": "code",
   "execution_count": null,
   "id": "34498b0c-57a3-410a-882f-e1db9ac0dc20",
   "metadata": {},
   "outputs": [],
   "source": []
  }
 ],
 "metadata": {
  "kernelspec": {
   "display_name": "Python 3 (ipykernel)",
   "language": "python",
   "name": "python3"
  },
  "language_info": {
   "codemirror_mode": {
    "name": "ipython",
    "version": 3
   },
   "file_extension": ".py",
   "mimetype": "text/x-python",
   "name": "python",
   "nbconvert_exporter": "python",
   "pygments_lexer": "ipython3",
   "version": "3.10.8"
  }
 },
 "nbformat": 4,
 "nbformat_minor": 5
}
